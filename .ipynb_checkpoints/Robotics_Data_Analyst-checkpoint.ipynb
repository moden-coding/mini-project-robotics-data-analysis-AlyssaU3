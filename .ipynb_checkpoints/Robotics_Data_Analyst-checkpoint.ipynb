{
 "cells": [
  {
   "cell_type": "markdown",
   "metadata": {
    "id": "nKdphsd-PE8H"
   },
   "source": [
    "#Robotics Data Analyst\n",
    "In this activity, you are taking on the role of a Data Analyst for a Robotics Tournament. Your job is to clean up messy information about teams, matches, scores, and workshops so the event can run smoothly. You’ll decide which Python data structures (lists, dictionaries, tuples, and sets) are the best tools for different tasks—like sorting schedules, adding up scores, or checking for mistakes. Just like a real analyst, you’ll need to think carefully about how to organize data so it’s accurate, efficient, and easy to use.<br><br>\n",
    "\n",
    "Your audience for this is someone who doesn't know about code, but wants to see how you got your results. They don't just want to see you write a paper with no supporting code to back it up, but they also don't want to see a big block of code with no support explanation. <br><br>\n",
    "\n",
    "A key part of your job is to do the analysis, but also to explain your work. The final report should be a very intentional mix of code with text. **You should not have giant blocks of code**. For example, a function should be its own code block. Every 4-6 lines should include some explanation of what you are doing. That's just a rough estimate though. Think about your code in terms of discreet chunks. Each chunk should be a code block."
   ]
  },
  {
   "cell_type": "code",
   "execution_count": 75,
   "metadata": {
    "id": "6B5UsY3QFZSP"
   },
   "outputs": [],
   "source": [
    "# teams.csv-like rows you parsed already:\n",
    "raw_teams = [\n",
    "    [\"HHS-1729\", \"Hudson HS\", \"Ada\", \"ada@hudsonhs.org\", \"Lin\", \"lin@hudsonhs.org\"],\n",
    "    [\"FRM-101\",  \"Framingham HS\", \"Sam\", \"sam@frhs.org\", \"Tess\", \"tess@frhs.org\"],\n",
    "    [\"MRB-88\",   \"Marlborough HS\", \"Kai\", \"kai@mrbhs.org\", \"Ada\", \"ada@hudsonhs.org\"], \n",
    "    [\"WBY-77\",   \"Westborough HS\", \"Ira\", \"ira@wby.org\", \"Mo\", \"mo@wby.org\"],\n",
    "]\n",
    "\n",
    "# provisional match schedule (field, start_time, teamA, teamB)\n",
    "# Times are ISO strings in the format YYYY-MM-DDTHH:MM\n",
    "raw_matches = [\n",
    "    ('Field-2', '2025-09-27T12:30', 'FRM-101', 'WBY-77'),\n",
    "    ('Field-1', '2025-09-27T16:15', 'FRM-101', 'HHS-1729'),\n",
    "    ('Field-2', '2025-09-27T11:45', 'WBY-77', 'FRM-101'),\n",
    "    ('Field-1', '2025-09-27T11:00', 'HHS-1729', 'MRB-88'),\n",
    "    ('Field-2', '2025-09-27T17:00', 'FRM-101', 'MRB-88'),\n",
    "    ('Field-1', '2025-09-27T15:30', 'WBY-77', 'HHS-1729'),\n",
    "    ('Field-1', '2025-09-27T17:45', 'MRB-88', 'WBY-77'),\n",
    "    ('Field-2', '2025-09-27T17:45', 'HHS-1729', 'FRM-101'),\n",
    "    ('Field-2', '2025-09-27T18:30', 'MRB-88', 'HHS-1729'),\n",
    "    ('Field-1', '2025-09-27T13:15', 'HHS-1729', 'WBY-77'),\n",
    "    ('Field-2', '2025-09-27T10:15', 'MRB-88', 'WBY-77'),\n",
    "    ('Field-2', '2025-09-27T15:30', 'MRB-88', 'FRM-101'),\n",
    "    ('Field-2', '2025-09-27T14:00', 'WBY-77', 'MRB-88'),\n",
    "    ('Field-1', '2025-09-27T17:00', 'HHS-1729', 'WBY-77'),\n",
    "    ('Field-1', '2025-09-27T14:45', 'HHS-1729', 'MRB-88'),\n",
    "    ('Field-2', '2025-09-27T16:15', 'WBY-77', 'MRB-88'),\n",
    "    ('Field-1', '2025-09-27T09:30', 'WBY-77', 'HHS-1729'),\n",
    "    ('Field-1', '2025-09-27T12:30', 'MRB-88', 'HHS-1729'),\n",
    "    ('Field-2', '2025-09-27T14:45', 'FRM-101', 'WBY-77'),\n",
    "    ('Field-2', '2025-09-27T13:15', 'MRB-88', 'FRM-101'),\n",
    "    ('Field-2', '2025-09-27T09:30', 'MRB-88', 'FRM-101'),\n",
    "    ('Field-1', '2025-09-27T19:15', 'HHS-1729', 'FRM-101'),\n",
    "    ('Field-1', '2025-09-27T14:00', 'FRM-101', 'HHS-1729'),\n",
    "    ('Field-1', '2025-09-27T10:15', 'HHS-1729', 'FRM-101'),\n",
    "    ('Field-1', '2025-09-27T18:30', 'WBY-77', 'FRM-101'),\n",
    "]\n",
    "\n",
    "# reported scores (field, time, team_id, points)\n",
    "raw_scores = [\n",
    "    (\"Field-1\", \"2025-09-27T09:30\", \"WBY-77\", 22, \"HHS-1729\", 18),\n",
    "    (\"Field-2\", \"2025-09-27T09:30\", \"MRB-88\", 25, \"FRM-101\", 25),\n",
    "    (\"Field-1\", \"2025-09-27T10:15\", \"HHS-1729\", 17, \"FRM-101\", 31),\n",
    "    (\"Field-2\", \"2025-09-27T10:15\", \"MRB-88\", 27, \"WBY-77\", 23),\n",
    "    (\"Field-1\", \"2025-09-27T11:00\", \"HHS-1729\", 22, \"MRB-88\", 19),\n",
    "\n",
    "    (\"Field-2\", \"2025-09-27T11:45\", \"WBY-77\", 26, \"FRM-101\", 24),\n",
    "    (\"Field-1\", \"2025-09-27T12:30\", \"MRB-88\", 28, \"HHS-1729\", 30),\n",
    "    (\"Field-2\", \"2025-09-27T12:30\", \"FRM-101\", 24, \"WBY-77\", 22),\n",
    "    (\"Field-1\", \"2025-09-27T13:15\", \"HHS-1729\", 19, \"WBY-77\", 23),\n",
    "    (\"Field-2\", \"2025-09-27T13:15\", \"MRB-88\", 32, \"FRM-101\", 29),\n",
    "\n",
    "    (\"Field-1\", \"2025-09-27T14:00\", \"FRM-101\", 27, \"HHS-1729\", 25),\n",
    "    (\"Field-2\", \"2025-09-27T14:00\", \"WBY-77\", 20, \"MRB-88\", 22),\n",
    "    (\"Field-1\", \"2025-09-27T14:45\", \"HHS-1729\", 24, \"MRB-88\", 26),\n",
    "    (\"Field-2\", \"2025-09-27T14:45\", \"FRM-101\", 18, \"WBY-77\", 17),\n",
    "    (\"Field-1\", \"2025-09-27T15:30\", \"WBY-77\", 28, \"HHS-1729\", 31),\n",
    "\n",
    "    (\"Field-2\", \"2025-09-27T15:30\", \"MRB-88\", 24, \"FRM-101\", 26),\n",
    "    (\"Field-1\", \"2025-09-27T16:15\", \"FRM-101\", 33, \"HHS-1729\", 20),\n",
    "    (\"Field-2\", \"2025-09-27T16:15\", \"WBY-77\", 23, \"MRB-88\", 27),\n",
    "    (\"Field-1\", \"2025-09-27T17:00\", \"HHS-1729\", 29, \"WBY-77\", 27),\n",
    "    (\"Field-2\", \"2025-09-27T17:00\", \"FRM-101\", 22, \"MRB-88\", 24),\n",
    "\n",
    "    (\"Field-1\", \"2025-09-27T17:45\", \"MRB-88\", 21, \"WBY-77\", 19),\n",
    "    (\"Field-2\", \"2025-09-27T17:45\", \"HHS-1729\", 20, \"FRM-101\", 18),\n",
    "    (\"Field-1\", \"2025-09-27T18:30\", \"WBY-77\", 28, \"FRM-101\", 26),\n",
    "    (\"Field-2\", \"2025-09-27T18:30\", \"MRB-88\", 25, \"HHS-1729\", 21),\n",
    "    (\"Field-1\", \"2025-09-27T19:15\", \"HHS-1729\", 26, \"FRM-101\", 24),\n",
    "]\n",
    "\n",
    "# workshop signups: participant_email, workshop_code\n",
    "raw_workshops = [\n",
    "    (\"ada@hudsonhs.org\", \"VIS\"), \n",
    "    (\"lin@hudsonhs.org\", \"PID\"),\n",
    "    (\"sam@frhs.org\", \"PID\"), \n",
    "    (\"tess@frhs.org\", \"PID\"),\n",
    "    (\"kai@mrbhs.org\", \"PID\"), \n",
    "    (\"ira@wby.org\", \"VIS\"), \n",
    "    (\"mo@wby.org\", \"VIS\"),\n",
    "    (\"ada@hudsonhs.org\", \"PID\"),  \n",
    "]\n",
    "\n",
    "# workshop capacities (could also be given as flat CSV rows later)\n",
    "workshop_caps = [\n",
    "    (\"PID\", \"4\"),\n",
    "    (\"VIS\", \"3\")\n",
    "]"
   ]
  },
  {
   "cell_type": "markdown",
   "metadata": {
    "id": "x8CLGqoFFg1u"
   },
   "source": [
    "Whenever you are getting to work with data, you should first explore it. We will get more tools for doing this as we learn more, but we can still investigate this. In the space below, you have a couple different coding fields to work with. In that space, I want you to show evidence that you have explored these lists. That can be:\n",
    "\n",
    "\n",
    "*   Looping through the lists printing items\n",
    "*   Using type() to confirm data types\n",
    "*   Using other tools such as len(), min(), max() to find key data points\n",
    "*   Looking at individual dictionaries to confirm that you know how they work. <br>\n",
    "You can add additional entries by hitting the 'b' key. After each code block, insert a short written block to explain what you found.\n",
    "\n",
    "\n",
    "\n",
    "\n"
   ]
  },
  {
   "cell_type": "markdown",
   "metadata": {
    "id": "ghDQjwkrHEgE"
   },
   "source": [
    "#Part A — Choose representations (immutability vs. mutability)\n",
    "\n",
    "1. Participants/teams: Convert each raw_teams row into a record you won’t accidentally mutate (e.g., for stable IDs).\n",
    "*   The data structure should have information about each school: team number, high school name, grouped mentor 1 information, grouped mentor 2 information\n",
    "*   **Deliverable**: a collection of team records; **justify** your data structure choice."
   ]
  },
  {
   "cell_type": "code",
   "execution_count": 300,
   "metadata": {
    "id": "OVHDz11xIL1-",
    "scrolled": true
   },
   "outputs": [
    {
     "name": "stdout",
     "output_type": "stream",
     "text": [
      "(('HHS-1729', 'Hudson HS'), ('Ada', 'ada@hudsonhs.org'), ('Lin', 'lin@hudsonhs.org'))\n",
      "(('FRM-101', 'Framingham HS'), ('Sam', 'sam@frhs.org'), ('Tess', 'tess@frhs.org'))\n",
      "(('MRB-88', 'Marlborough HS'), ('Kai', 'kai@mrbhs.org'), ('Ada', 'ada@hudsonhs.org'))\n",
      "(('WBY-77', 'Westborough HS'), ('Ira', 'ira@wby.org'), ('Mo', 'mo@wby.org'))\n"
     ]
    }
   ],
   "source": [
    "#Complete #1 here\n",
    "for team in raw_teams:\n",
    "    team_id, school, mentor1_name, mentor1_email, mentor2_name, mentor2_email= team\n",
    "    team_id_codes.append(team_id)\n",
    "    mentor1=(mentor1_name,mentor1_email)\n",
    "    mentor2=(mentor2_name, mentor2_email)\n",
    "    team_info= (team_id, school)\n",
    "    raw_team = ( team_info, mentor1, mentor2)\n",
    "    print(raw_team)"
   ]
  },
  {
   "cell_type": "markdown",
   "metadata": {
    "id": "KEXLowQCIPaA"
   },
   "source": [
    "Use this space to justify why tuples made sense:\n",
    "\n",
    "Tuples make sense to use for this task because each team ID is acociated with one school and each email is acociated with one mentor name. By grouping everything into tuples and then into one large tuple for each school, it ensures that the data is not accidentily edited laer since this is raw data that will not need to change."
   ]
  },
  {
   "cell_type": "markdown",
   "metadata": {},
   "source": [
    "\n",
    "2. Build a fast lookup from team code → school/mentors.\n",
    "*   **Deliverable**: a dictionary mapping `team_id` to a collection of information about that team. Information included should: which school is represented by the id and the team's mentors. We'll deal with points and records later"
   ]
  },
  {
   "cell_type": "code",
   "execution_count": 301,
   "metadata": {},
   "outputs": [],
   "source": [
    "teams_dicti = {}\n",
    "for team in raw_teams:\n",
    "    team_id, school, mentor1_name, mentor1_email, mentor2_name, mentor2_email = team\n",
    "    mentor1=(mentor1_name,mentor1_email)\n",
    "    mentor2=(mentor2_name,mentor2_email)\n",
    "    teams_dicti[team_id]= school,mentor1,mentor2\n"
   ]
  },
  {
   "cell_type": "markdown",
   "metadata": {},
   "source": [
    "The Code block above creates a dictionary where the key is the team ID and the output is the school and mentor info. The code block below allows you to input a team ID and prints out the team info that corresponds to that ID"
   ]
  },
  {
   "cell_type": "code",
   "execution_count": 302,
   "metadata": {},
   "outputs": [
    {
     "name": "stdout",
     "output_type": "stream",
     "text": [
      "HHS-1729: ('Hudson HS', ('Ada', 'ada@hudsonhs.org'), ('Lin', 'lin@hudsonhs.org'))\n"
     ]
    }
   ],
   "source": [
    "inputid= \"HHS-1729\"\n",
    "print(f\"{inputid}: {teams_dicti[inputid]}\")"
   ]
  },
  {
   "cell_type": "markdown",
   "metadata": {
    "id": "6tZvRBazIUU8"
   },
   "source": [
    "Use this space to justify your choice in data structure:\n",
    "In this task I used a dictionary. I did this because the goal was to print out a team's info based on theri team ID meaning that each ID should be able to call a bunch of info about the school. Using an ID as the dictionary key, I can easily pulll up information about the school based on the ID just by using the ID to access the information in the dictionary."
   ]
  },
  {
   "cell_type": "markdown",
   "metadata": {
    "id": "MtDKvyYoIaTq"
   },
   "source": [
    "#Part B - Sort a mixed schedule\n",
    "\n",
    "Clean and sort `raw_matches` by **start_time** then **field** (so ties on time are broken alphabetically by field). We'll talk a bit more about how to do that below.\n",
    "\n",
    "*   **Deliverable**: a list of normalized match tuples"
   ]
  },
  {
   "cell_type": "markdown",
   "metadata": {},
   "source": [
    "We should see something like below afte we are done:  \n",
    "\n",
    "(\"Field-1\", \"2025-09-27T09:30\", \"HHS-1729\", \"WBY-77\"),\n",
    "(\"Field-2\", \"2025-09-27T09:30\", \"FRM-101\", \"MRB-88\"),\n",
    "(\"Field-1\", \"2025-09-27T10:15\", \"FRM-101\", \"HHS-1729\"),\n",
    "(\"Field-2\", \"2025-09-27T10:15\", \"MRB-88\", \"WBY-77\"),\n",
    "(\"Field-1\", \"2025-09-27T11:00\", \"MRB-88\", \"HHS-1729\")"
   ]
  },
  {
   "cell_type": "markdown",
   "metadata": {
    "id": "zIl51MpFKSyq"
   },
   "source": [
    "In this task, we need to do multi-sorting. We might find that two matches have the same start time, which could cause a jam in our sorting. We need to break that jam by sorting using two factors. We can do that by creating an extra function to help us:\n"
   ]
  },
  {
   "cell_type": "code",
   "execution_count": 293,
   "metadata": {
    "id": "rp839VzxK4lj"
   },
   "outputs": [],
   "source": [
    "def sorting_key(match):\n",
    "    field, start_time, team_a, team_b = match\n",
    "    schedule=(start_time,field)\n",
    "    return schedule"
   ]
  },
  {
   "cell_type": "markdown",
   "metadata": {
    "id": "eByhciXyLtxQ"
   },
   "source": [
    "If done correctly, we should see `(\"2025-09-27T09:30\", \"Field-2\")`as the output from the function below:"
   ]
  },
  {
   "cell_type": "code",
   "execution_count": 294,
   "metadata": {
    "id": "1BQHxzf1L7YS"
   },
   "outputs": [
    {
     "name": "stdout",
     "output_type": "stream",
     "text": [
      "('2025-09-27T12:30', 'Field-2')\n"
     ]
    }
   ],
   "source": [
    "print(sorting_key(raw_matches[0]))"
   ]
  },
  {
   "cell_type": "markdown",
   "metadata": {
    "id": "zxb9lqAkLb-i"
   },
   "source": [
    "We can then apply this function to our sorting method:"
   ]
  },
  {
   "cell_type": "code",
   "execution_count": 259,
   "metadata": {
    "id": "KJKpFgy_Lg9W"
   },
   "outputs": [
    {
     "name": "stdout",
     "output_type": "stream",
     "text": [
      "[('Field-1', '2025-09-27T09:30', 'WBY-77', 'HHS-1729'), ('Field-2', '2025-09-27T09:30', 'MRB-88', 'FRM-101'), ('Field-1', '2025-09-27T10:15', 'HHS-1729', 'FRM-101'), ('Field-2', '2025-09-27T10:15', 'MRB-88', 'WBY-77'), ('Field-1', '2025-09-27T11:00', 'HHS-1729', 'MRB-88'), ('Field-2', '2025-09-27T11:45', 'WBY-77', 'FRM-101'), ('Field-1', '2025-09-27T12:30', 'MRB-88', 'HHS-1729'), ('Field-2', '2025-09-27T12:30', 'FRM-101', 'WBY-77'), ('Field-1', '2025-09-27T13:15', 'HHS-1729', 'WBY-77'), ('Field-2', '2025-09-27T13:15', 'MRB-88', 'FRM-101'), ('Field-1', '2025-09-27T14:00', 'FRM-101', 'HHS-1729'), ('Field-2', '2025-09-27T14:00', 'WBY-77', 'MRB-88'), ('Field-1', '2025-09-27T14:45', 'HHS-1729', 'MRB-88'), ('Field-2', '2025-09-27T14:45', 'FRM-101', 'WBY-77'), ('Field-1', '2025-09-27T15:30', 'WBY-77', 'HHS-1729'), ('Field-2', '2025-09-27T15:30', 'MRB-88', 'FRM-101'), ('Field-1', '2025-09-27T16:15', 'FRM-101', 'HHS-1729'), ('Field-2', '2025-09-27T16:15', 'WBY-77', 'MRB-88'), ('Field-1', '2025-09-27T17:00', 'HHS-1729', 'WBY-77'), ('Field-2', '2025-09-27T17:00', 'FRM-101', 'MRB-88'), ('Field-1', '2025-09-27T17:45', 'MRB-88', 'WBY-77'), ('Field-2', '2025-09-27T17:45', 'HHS-1729', 'FRM-101'), ('Field-1', '2025-09-27T18:30', 'WBY-77', 'FRM-101'), ('Field-2', '2025-09-27T18:30', 'MRB-88', 'HHS-1729'), ('Field-1', '2025-09-27T19:15', 'HHS-1729', 'FRM-101')]\n"
     ]
    }
   ],
   "source": [
    "sorted_matches = sorted(raw_matches, key=sorting_key) #This will do conventional, ascending sorts but will first look at time of\n",
    "print(sorted_matches)"
   ]
  },
  {
   "cell_type": "markdown",
   "metadata": {
    "id": "EnVT2FYOMA3_"
   },
   "source": [
    "Explain how a sorting key was useful for this."
   ]
  },
  {
   "cell_type": "markdown",
   "metadata": {},
   "source": [
    "A sorting key was helpful here because it grouped together the important info about each match into a tuple so that it cannot be edited later but all of the info can be called up by accessing sorting_key. "
   ]
  },
  {
   "cell_type": "markdown",
   "metadata": {
    "id": "V62qMiGnKxZJ"
   },
   "source": [
    "#Part C — Detect cross-team mentor conflicts (duplicate emails)\n",
    "\n",
    "Using the team data, find any emails that appear on multiple teams.\n",
    "*   **Deliverable**: produce a report like \"xxxx@xxxxx.org\": {\"xxx-####\",\"xxx-####\"}}. Where we can see that xxxx@xxxxx.org was listed for two different teams\n",
    "\n",
    "Complete this using code that could be applied to a different data set, for example, one with more names. \n",
    "\n"
   ]
  },
  {
   "cell_type": "code",
   "execution_count": 275,
   "metadata": {},
   "outputs": [],
   "source": [
    "unique_email = set()\n",
    "duplicates = []\n",
    "\n",
    "for mentor in emailing:\n",
    "    if mentor in unique_email:\n",
    "        duplicates.append(mentor)\n",
    "    else:\n",
    "        unique_email.add(mentor)"
   ]
  },
  {
   "cell_type": "markdown",
   "metadata": {},
   "source": [
    "The code snippet above finds any duplicate mentor's emails and the code below prints out their email and the teams that they are on"
   ]
  },
  {
   "cell_type": "code",
   "execution_count": 400,
   "metadata": {},
   "outputs": [],
   "source": [
    "team_mentors_emails={}\n",
    "for team in raw_teams:\n",
    "    team_id, school, mentor1_name, mentor1_email, mentor2_name, mentor2_email = team\n",
    "    for email in [mentor1_email, mentor2_email]:\n",
    "        if email not in team_mentors_emails:\n",
    "            team_mentors_emails[email]=[]\n",
    "        team_mentors_emails[email].append(team_id)"
   ]
  },
  {
   "cell_type": "markdown",
   "metadata": {},
   "source": [
    "The code block below prints out the mentor email and team IDs only for the duplicate mentors"
   ]
  },
  {
   "cell_type": "code",
   "execution_count": 401,
   "metadata": {},
   "outputs": [
    {
     "name": "stdout",
     "output_type": "stream",
     "text": [
      "ada@hudsonhs.org: ['HHS-1729', 'MRB-88']\n"
     ]
    }
   ],
   "source": [
    "for emails in duplic:\n",
    "    print(f\"{emails}: {team_mentors_emails[emails]}\")"
   ]
  },
  {
   "cell_type": "markdown",
   "metadata": {
    "id": "d6kc1jWfNCec"
   },
   "source": [
    "Explain your work:\n",
    "I started by using a set to find the duplicate emails by adding each email to a set on the first pass through and then checking if each email is already in the set or not. If it is not in the set, it gets added to the set, if it is in the set then it gets added to the duplicates list. Then I use a dictionary to find the  team ID codes that belong to that email to find what teams they are on."
   ]
  },
  {
   "cell_type": "markdown",
   "metadata": {
    "id": "FGh8WsJaNCqS"
   },
   "source": [
    "#Part D\n",
    "Compute **total wins by team** and **total points** by teams across all raw_scores. Then list the teams in order. Handle ties by who scored more points.\n",
    "    **Deliverable**: an ordered list like [(\"FRM-101\", 4, 56), (\"MRB-88\", 3, 71), ...].\n",
    "Write your code in chunks with short explanations of what you are doing after each chunk."
   ]
  },
  {
   "cell_type": "code",
   "execution_count": 392,
   "metadata": {},
   "outputs": [],
   "source": [
    "team_points={}\n",
    "for field, time, team1_id, team1_points, team2_id, team2_points in raw_scores:\n",
    "    for team, points in [(team1_id, team1_points), (team2_id, team2_points)]:\n",
    "        if team not in team_points:\n",
    "            team_points[team]=[0,0]\n",
    "        team_points[team][1] += points\n",
    " \n",
    "    if team1_points > team2_points:\n",
    "        team_points[team1_id][0] += 1\n",
    "    elif team2_points >team1_points:\n",
    "        team_points[team2_id][0] += 1\n",
    "    team_tuple= (team, team_points[team])\n"
   ]
  },
  {
   "cell_type": "markdown",
   "metadata": {
    "id": "VtffxJdYNelP"
   },
   "source": [
    "The code block above finds the total number of wins as well as total number of points for each team using a team_points dictionary and puts them into a tuple that shows the team ID, wins, and points. The code block below sorts each team's tuple so that they are displayed with the team with the greatest number of points to start, the the others following in order."
   ]
  },
  {
   "cell_type": "code",
   "execution_count": 393,
   "metadata": {},
   "outputs": [
    {
     "name": "stdout",
     "output_type": "stream",
     "text": [
      "[('MRB-88', 8, 300), ('FRM-101', 6, 327), ('HHS-1729', 6, 302), ('WBY-77', 4, 278)]\n"
     ]
    }
   ],
   "source": [
    "def sorting_key2 (result):\n",
    "    team, wins, points= result\n",
    "    return (-wins, -points)\n",
    "result.sort(key=sorting_key2)\n",
    "print (result)"
   ]
  },
  {
   "cell_type": "markdown",
   "metadata": {
    "id": "CVvBLr2QOEG8"
   },
   "source": [
    "#Part E — Team activity summary (grouping)\n",
    "\n",
    "Produce, for each team, a summary dict:\n",
    "\n",
    "```\n",
    "{\n",
    "  \"HHS-1729\": {\n",
    "    \"school\": \"Hudson HS\",\n",
    "    \"mentors\": [\"Ada\",\"Lin\"],\n",
    "    \"matches\": 3,\n",
    "    \"total_points\": 57,\n",
    "    \"workshops\": [\"PID\", \"VIS\"]\n",
    "  },\n",
    "  ...\n",
    "}\n",
    "```\n"
   ]
  },
  {
   "cell_type": "code",
   "execution_count": 381,
   "metadata": {
    "id": "LBPwycB5OLGX"
   },
   "outputs": [
    {
     "name": "stdout",
     "output_type": "stream",
     "text": [
      "HHS-1729:  {'school': 'Hudson HS', 'mentors': ['Ada', 'Lin'], 'Matches Won': 6, 'Total Points': 302}\n",
      "FRM-101:  {'school': 'Framingham HS', 'mentors': ['Sam', 'Tess'], 'Matches Won': 6, 'Total Points': 327}\n",
      "MRB-88:  {'school': 'Marlborough HS', 'mentors': ['Kai', 'Ada'], 'Matches Won': 8, 'Total Points': 300}\n",
      "WBY-77:  {'school': 'Westborough HS', 'mentors': ['Ira', 'Mo'], 'Matches Won': 4, 'Total Points': 278}\n"
     ]
    }
   ],
   "source": [
    "summary={}\n",
    "for team in raw_teams:\n",
    "    team_id, school, mentor1_name, mentor1_email, mentor2_name, mentor2_email = team\n",
    "    summary[team_id]={\"school\":school, \n",
    "                      \"mentors\":[mentor1_name,mentor2_name], \n",
    "                      \"Matches Won\": team_points[team_id][0], \n",
    "                      \"Total Points\": team_points[team_id][1]}\n",
    "    print(f\"{team_id}:  {summary[team_id]}\")"
   ]
  },
  {
   "cell_type": "markdown",
   "metadata": {
    "id": "OMKQYIfFOZAl"
   },
   "source": [
    "The summary dictionary takes in a team ID as its key and returns a whole list of information about the team: Their school, mentors, matches won, and total points"
   ]
  }
 ],
 "metadata": {
  "colab": {
   "provenance": []
  },
  "kernelspec": {
   "display_name": "Python [conda env:base] *",
   "language": "python",
   "name": "conda-base-py"
  },
  "language_info": {
   "codemirror_mode": {
    "name": "ipython",
    "version": 3
   },
   "file_extension": ".py",
   "mimetype": "text/x-python",
   "name": "python",
   "nbconvert_exporter": "python",
   "pygments_lexer": "ipython3",
   "version": "3.13.5"
  }
 },
 "nbformat": 4,
 "nbformat_minor": 4
}
